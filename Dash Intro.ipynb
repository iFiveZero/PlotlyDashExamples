{
 "cells": [
  {
   "cell_type": "markdown",
   "metadata": {},
   "source": [
    "# Dash Tutorial\n",
    "\n",
    "Ensure conda env has the prerequisite packages installed\n",
    "\n",
    "Install Dash\n",
    "conda install -c conda-forge dash\n",
    "\n",
    "Install Jupyter Dash\n",
    "conda install -c plotly jupyter-dash\n",
    "\n",
    "Install dash core components\n",
    "conda install -c conda-forge dash-core-components\n",
    "\n",
    "install dash html components\n",
    "conda install -c conda-forge dash-html-components\n",
    "\n",
    "install bootstrap components\n",
    "conda install -c conda-forge dash-bootstrap-components\n",
    "\n",
    "install dash mantime components\n",
    "conda install -c conda-forge dash-mantine-components\n",
    "the conda library is not up to date and needs to be upgraded using pip:\n",
    "pip install dash-mantine-components -U"
   ]
  },
  {
   "cell_type": "markdown",
   "metadata": {},
   "source": [
    "# More Example Apps\n",
    "They can be found here:\n",
    "https://dash-example-index.herokuapp.com/"
   ]
  },
  {
   "cell_type": "code",
   "execution_count": 1,
   "metadata": {},
   "outputs": [],
   "source": [
    "from dash import Dash, html, dcc, callback, Input, Output, dash_table\n",
    "import plotly.express as px\n",
    "import pandas as pd\n",
    "import dash_bootstrap_components as dbc\n",
    "import dash_mantine_components as dmc"
   ]
  },
  {
   "cell_type": "markdown",
   "metadata": {},
   "source": [
    "# Hello World App\n",
    "app will run on http://127.0.0.1:8050/ "
   ]
  },
  {
   "cell_type": "code",
   "execution_count": 2,
   "metadata": {},
   "outputs": [
    {
     "data": {
      "text/html": [
       "\n",
       "        <iframe\n",
       "            width=\"100%\"\n",
       "            height=\"650\"\n",
       "            src=\"http://127.0.0.1:8050/\"\n",
       "            frameborder=\"0\"\n",
       "            allowfullscreen\n",
       "            \n",
       "        ></iframe>\n",
       "        "
      ],
      "text/plain": [
       "<IPython.lib.display.IFrame at 0x25f1ccf74c0>"
      ]
     },
     "metadata": {},
     "output_type": "display_data"
    }
   ],
   "source": [
    "## Initialize the app\n",
    "app = Dash(__name__)\n",
    "\n",
    "# App layout\n",
    "app.layout = html.Div([\n",
    "    html.Div(children='Hello World!'),\n",
    "    html.Div(children='2nd Div')\n",
    "])\n",
    "\n",
    "# Run the app\n",
    "if __name__ == '__main__':\n",
    "    app.run(debug=True)\n"
   ]
  },
  {
   "cell_type": "markdown",
   "metadata": {},
   "source": [
    "# Example Incorporating Data"
   ]
  },
  {
   "cell_type": "code",
   "execution_count": 3,
   "metadata": {},
   "outputs": [
    {
     "data": {
      "text/html": [
       "\n",
       "        <iframe\n",
       "            width=\"100%\"\n",
       "            height=\"650\"\n",
       "            src=\"http://127.0.0.1:8050/\"\n",
       "            frameborder=\"0\"\n",
       "            allowfullscreen\n",
       "            \n",
       "        ></iframe>\n",
       "        "
      ],
      "text/plain": [
       "<IPython.lib.display.IFrame at 0x25f1cdd1e20>"
      ]
     },
     "metadata": {},
     "output_type": "display_data"
    }
   ],
   "source": [
    "# Incorporate data\n",
    "df = pd.read_csv('https://raw.githubusercontent.com/plotly/datasets/master/gapminder2007.csv')\n",
    "\n",
    "## Initialize the app\n",
    "app = Dash(__name__)\n",
    "\n",
    "# App layout\n",
    "app.layout = html.Div([\n",
    "    html.Div(children='My First App with Data'),\n",
    "    dash_table.DataTable(data=df.to_dict('records'), page_size=10)\n",
    "])\n",
    "\n",
    "# Run the app\n",
    "if __name__ == '__main__':\n",
    "    app.run(debug=True)\n"
   ]
  },
  {
   "cell_type": "markdown",
   "metadata": {},
   "source": [
    "# Visualising Data"
   ]
  },
  {
   "cell_type": "code",
   "execution_count": 4,
   "metadata": {},
   "outputs": [
    {
     "data": {
      "text/html": [
       "\n",
       "        <iframe\n",
       "            width=\"100%\"\n",
       "            height=\"650\"\n",
       "            src=\"http://127.0.0.1:8050/\"\n",
       "            frameborder=\"0\"\n",
       "            allowfullscreen\n",
       "            \n",
       "        ></iframe>\n",
       "        "
      ],
      "text/plain": [
       "<IPython.lib.display.IFrame at 0x25f1d8f5f40>"
      ]
     },
     "metadata": {},
     "output_type": "display_data"
    }
   ],
   "source": [
    "# Incorporate data\n",
    "df = pd.read_csv('https://raw.githubusercontent.com/plotly/datasets/master/gapminder2007.csv')\n",
    "\n",
    "## Initialize the app\n",
    "app = Dash(__name__)\n",
    "\n",
    "# App layout\n",
    "app.layout = html.Div([\n",
    "    html.Div(children='My First App with Data'),\n",
    "    dash_table.DataTable(data=df.to_dict('records'), page_size=10),\n",
    "    #Using the plotly.express library, we build the histogram chart and assign it to the figure property of the dcc.Graph. This displays the histogram in our app.\n",
    "    dcc.Graph(figure=px.histogram(df, x='continent', y='lifeExp', histfunc='avg'))\n",
    "])\n",
    "\n",
    "# Run the app\n",
    "if __name__ == '__main__':\n",
    "    app.run(debug=True)\n"
   ]
  },
  {
   "cell_type": "markdown",
   "metadata": {},
   "source": [
    "# Add User Controls and Callbacks"
   ]
  },
  {
   "cell_type": "code",
   "execution_count": 5,
   "metadata": {},
   "outputs": [
    {
     "data": {
      "text/html": [
       "\n",
       "        <iframe\n",
       "            width=\"100%\"\n",
       "            height=\"650\"\n",
       "            src=\"http://127.0.0.1:8050/\"\n",
       "            frameborder=\"0\"\n",
       "            allowfullscreen\n",
       "            \n",
       "        ></iframe>\n",
       "        "
      ],
      "text/plain": [
       "<IPython.lib.display.IFrame at 0x25f1e946340>"
      ]
     },
     "metadata": {},
     "output_type": "display_data"
    }
   ],
   "source": [
    "# Incorporate data\n",
    "df = pd.read_csv('https://raw.githubusercontent.com/plotly/datasets/master/gapminder2007.csv')\n",
    "\n",
    "## Initialize the app\n",
    "app = Dash(__name__)\n",
    "\n",
    "# App layout\n",
    "app.layout = html.Div([\n",
    "    html.Div(children='My First App with Data'),    \n",
    "    dcc.RadioItems(options=['pop', 'lifeExp', 'gdpPercap'], value='lifeExp', id='controls-and-radio-item'),\n",
    "    dash_table.DataTable(data=df.to_dict('records'), page_size=10),    \n",
    "    dcc.Graph(figure={}, id='controls-and-graph')\n",
    "])\n",
    "\n",
    "# Add controls to build the interaction\n",
    "@callback(\n",
    "    Output(component_id='controls-and-graph', component_property='figure'),\n",
    "    Input(component_id='controls-and-radio-item', component_property='value')\n",
    ")\n",
    "def update_graph(col_chosen):\n",
    "    fig = px.histogram(df, x='continent', y=col_chosen, histfunc='avg')\n",
    "    return fig\n",
    "\n",
    "# Run the app\n",
    "if __name__ == '__main__':\n",
    "    app.run(debug=True)\n"
   ]
  },
  {
   "cell_type": "markdown",
   "metadata": {},
   "source": [
    "# Includes Styling"
   ]
  },
  {
   "cell_type": "code",
   "execution_count": 6,
   "metadata": {},
   "outputs": [
    {
     "data": {
      "text/html": [
       "\n",
       "        <iframe\n",
       "            width=\"100%\"\n",
       "            height=\"650\"\n",
       "            src=\"http://127.0.0.1:8050/\"\n",
       "            frameborder=\"0\"\n",
       "            allowfullscreen\n",
       "            \n",
       "        ></iframe>\n",
       "        "
      ],
      "text/plain": [
       "<IPython.lib.display.IFrame at 0x25f1ce42070>"
      ]
     },
     "metadata": {},
     "output_type": "display_data"
    }
   ],
   "source": [
    "# Incorporate data\n",
    "df = pd.read_csv('https://raw.githubusercontent.com/plotly/datasets/master/gapminder2007.csv')\n",
    "\n",
    "## Initialize the app - incorporate css\n",
    "external_stylesheets = ['https://codepen.io/chriddyp/pen/bWLwgP.css']\n",
    "app = Dash(__name__, external_stylesheets=external_stylesheets)\n",
    "\n",
    "# App layout\n",
    "app.layout = html.Div([\n",
    "    #Heading Text\n",
    "    html.Div(className='row',children='My First App with Data, Graph, and Controls', style={'textAlign': 'center', 'color': 'blue', 'fontSize': 30}),   \n",
    "    #Radio Buttons\n",
    "    html.Div(className='row', children=[dcc.RadioItems(options=['pop', 'lifeExp', 'gdpPercap'], value='lifeExp', inline=True, id='my-radio-buttons-final')]),\n",
    "    #Data Table and Chart - in a Div as a row\n",
    "    html.Div(className='row', children=[\n",
    "        #Data Table\n",
    "        html.Div(className='six columns',children=[dash_table.DataTable(data=df.to_dict('records'), page_size=11, style_table={'overflowX': 'auto'})]),    \n",
    "        # Chart\n",
    "        html.Div(className='six columns', children=[dcc.Graph(figure={}, id='histo-chart-final')])\n",
    "    ])\n",
    "])\n",
    "\n",
    "# Add controls to build the interaction\n",
    "@callback(\n",
    "    Output(component_id='histo-chart-final', component_property='figure'),\n",
    "    Input(component_id='my-radio-buttons-final', component_property='value')\n",
    ")\n",
    "def update_graph(col_chosen):\n",
    "    fig = px.histogram(df, x='continent', y=col_chosen, histfunc='avg')\n",
    "    return fig\n",
    "\n",
    "# Run the app\n",
    "if __name__ == '__main__':\n",
    "    app.run(debug=True)"
   ]
  },
  {
   "cell_type": "markdown",
   "metadata": {},
   "source": [
    "# Dash Bootstrap Components Example"
   ]
  },
  {
   "cell_type": "code",
   "execution_count": 7,
   "metadata": {},
   "outputs": [
    {
     "data": {
      "text/html": [
       "\n",
       "        <iframe\n",
       "            width=\"100%\"\n",
       "            height=\"650\"\n",
       "            src=\"http://127.0.0.1:8050/\"\n",
       "            frameborder=\"0\"\n",
       "            allowfullscreen\n",
       "            \n",
       "        ></iframe>\n",
       "        "
      ],
      "text/plain": [
       "<IPython.lib.display.IFrame at 0x25f1cb7d2e0>"
      ]
     },
     "metadata": {},
     "output_type": "display_data"
    }
   ],
   "source": [
    "# Incorporate data\n",
    "df = pd.read_csv('https://raw.githubusercontent.com/plotly/datasets/master/gapminder2007.csv')\n",
    "\n",
    "## Initialize the app - incorporate css\n",
    "external_stylesheets = [dbc.themes.CERULEAN]\n",
    "app = Dash(__name__, external_stylesheets=external_stylesheets)\n",
    "\n",
    "# App layout\n",
    "app.layout = dbc.Container([\n",
    "    #Heading Text\n",
    "    dbc.Row([\n",
    "        html.Div('My First App with Data, Graph, and Controls', className=\"text-primary text-center fs-3\")\n",
    "    ]),   \n",
    "\n",
    "    #Radio Buttons\n",
    "    dbc.Row([\n",
    "        dbc.RadioItems(options=[{\"label\":x, \"value\":x} for x in ['pop', 'lifeExp', 'gdpPercap']], \n",
    "        value='lifeExp', \n",
    "        inline=True, \n",
    "        id='radio-buttons-final')\n",
    "    ]),\n",
    "\n",
    "    #Data Table and Chart - in a Div as a row\n",
    "    dbc.Row([\n",
    "        dbc.Col([\n",
    "            #Data Table\n",
    "            dash_table.DataTable(data=df.to_dict('records'), page_size=12, style_table={'overflowX': 'auto'})\n",
    "        ], width=6),\n",
    "\n",
    "        # Chart\n",
    "        dbc.Col([    \n",
    "            dcc.Graph(figure={}, id='my-first-graph-final')\n",
    "        ], width=6)\n",
    "    ]),\n",
    "    ], fluid=True)\n",
    "\n",
    "# Add controls to build the interaction\n",
    "@callback(\n",
    "    Output(component_id='my-first-graph-final', component_property='figure'),\n",
    "    Input(component_id='radio-buttons-final', component_property='value')\n",
    ")\n",
    "def update_graph(col_chosen):\n",
    "    fig = px.histogram(df, x='continent', y=col_chosen, histfunc='avg')\n",
    "    return fig\n",
    "\n",
    "# Run the app\n",
    "if __name__ == '__main__':\n",
    "    app.run(debug=True)"
   ]
  },
  {
   "cell_type": "markdown",
   "metadata": {},
   "source": [
    "# Dash Mantime Components"
   ]
  },
  {
   "cell_type": "code",
   "execution_count": 2,
   "metadata": {},
   "outputs": [
    {
     "data": {
      "text/html": [
       "\n",
       "        <iframe\n",
       "            width=\"100%\"\n",
       "            height=\"650\"\n",
       "            src=\"http://127.0.0.1:8050/\"\n",
       "            frameborder=\"0\"\n",
       "            allowfullscreen\n",
       "            \n",
       "        ></iframe>\n",
       "        "
      ],
      "text/plain": [
       "<IPython.lib.display.IFrame at 0x2462fb52ca0>"
      ]
     },
     "metadata": {},
     "output_type": "display_data"
    }
   ],
   "source": [
    "# Incorporate data\n",
    "df = pd.read_csv('https://raw.githubusercontent.com/plotly/datasets/master/gapminder2007.csv')\n",
    "\n",
    "## Initialize the app - incorporate css\n",
    "external_stylesheets = [dmc.theme.DEFAULT_COLORS]\n",
    "app = Dash(__name__, external_stylesheets=external_stylesheets)\n",
    "\n",
    "# App layout\n",
    "app.layout = dmc.Container([\n",
    "    #Heading Text\n",
    "    dmc.Title(\n",
    "        'My First App with Data, Graph, and Controls', color=\"blue\", size=\"h3\"\n",
    "    ),   \n",
    "\n",
    "    #Radio Buttons\n",
    "    dmc.RadioGroup(\n",
    "        [dmc.Radio(i, value=i) for i in ['pop', 'lifeExp', 'gdpPercap']],\n",
    "        id='my-dmc-radio-item',\n",
    "        value='lifeExp', \n",
    "        size=\"sm\"\n",
    "    ),\n",
    "\n",
    "    #Data Table and Chart - in a Div as a row\n",
    "    dmc.Grid([\n",
    "        dmc.Col([\n",
    "            #Data Table\n",
    "            dash_table.DataTable(data=df.to_dict('records'), page_size=12, style_table={'overflowX': 'auto'})\n",
    "        ], span=6),\n",
    "\n",
    "        # Chart\n",
    "        dmc.Col([    \n",
    "            dcc.Graph(figure={}, id='graph-placeholder')\n",
    "        ], span=6)\n",
    "    ]),\n",
    "    ], fluid=True)\n",
    "\n",
    "# Add controls to build the interaction\n",
    "@callback(\n",
    "    Output(component_id='graph-placeholder', component_property='figure'),\n",
    "    Input(component_id='my-dmc-radio-item', component_property='value')\n",
    ")\n",
    "def update_graph(col_chosen):\n",
    "    fig = px.histogram(df, x='continent', y=col_chosen, histfunc='avg')\n",
    "    return fig\n",
    "\n",
    "# Run the app\n",
    "if __name__ == '__main__':\n",
    "    app.run(debug=True)"
   ]
  },
  {
   "cell_type": "markdown",
   "metadata": {},
   "source": [
    "# Gapminder Example"
   ]
  },
  {
   "cell_type": "code",
   "execution_count": 4,
   "metadata": {},
   "outputs": [
    {
     "data": {
      "text/html": [
       "\n",
       "        <iframe\n",
       "            width=\"100%\"\n",
       "            height=\"650\"\n",
       "            src=\"http://127.0.0.1:8050/\"\n",
       "            frameborder=\"0\"\n",
       "            allowfullscreen\n",
       "            \n",
       "        ></iframe>\n",
       "        "
      ],
      "text/plain": [
       "<IPython.lib.display.IFrame at 0x24630223850>"
      ]
     },
     "metadata": {},
     "output_type": "display_data"
    }
   ],
   "source": [
    "df = pd.read_csv('https://raw.githubusercontent.com/plotly/datasets/master/gapminder_unfiltered.csv')\n",
    "\n",
    "app = Dash(__name__)\n",
    "\n",
    "#Layout Section of Dash App\n",
    "app.layout = html.Div([\n",
    "    html.H1(children='Unfiltered Gap Data', style={'textAlign':'center'}),\n",
    "    dcc.Dropdown(df.country.unique(), 'Canada', id='dropdown-selection'),\n",
    "    dcc.Graph(id='graph-content')\n",
    "])\n",
    "\n",
    "#Callback Section of Dash App\n",
    "@app.callback(\n",
    "    Output('graph-content', 'figure'),\n",
    "    Input('dropdown-selection', 'value')\n",
    ")\n",
    "\n",
    "def update_graph(value):\n",
    "    dff = df[df.country==value]\n",
    "    return px.line(dff, x='year', y='pop')\n",
    "\n",
    "if __name__ == '__main__':\n",
    "    app.run(debug=True)"
   ]
  },
  {
   "cell_type": "markdown",
   "metadata": {},
   "source": [
    "# Another Gap Minder Example"
   ]
  },
  {
   "cell_type": "code",
   "execution_count": 48,
   "metadata": {},
   "outputs": [
    {
     "name": "stdout",
     "output_type": "stream",
     "text": [
      "[{'value': 1952, 'label': '1952'}, {'value': 1957, 'label': '1957'}, {'value': 1962, 'label': '1962'}, {'value': 1967, 'label': '1967'}, {'value': 1972, 'label': '1972'}, {'value': 1977, 'label': '1977'}, {'value': 1982, 'label': '1982'}, {'value': 1987, 'label': '1987'}, {'value': 1992, 'label': '1992'}, {'value': 1997, 'label': '1997'}, {'value': 2002, 'label': '2002'}, {'value': 2007, 'label': '2007'}]\n",
      "[{'country': 'Afghanistan', 'continent': 'Asia', 'year': 2007, 'lifeExp': 43.828, 'pop': 31889923, 'gdpPercap': 974.5803384, 'iso_alpha': 'AFG', 'iso_num': 4}, {'country': 'Albania', 'continent': 'Europe', 'year': 2007, 'lifeExp': 76.423, 'pop': 3600523, 'gdpPercap': 5937.029525999998, 'iso_alpha': 'ALB', 'iso_num': 8}, {'country': 'Algeria', 'continent': 'Africa', 'year': 2007, 'lifeExp': 72.301, 'pop': 33333216, 'gdpPercap': 6223.367465, 'iso_alpha': 'DZA', 'iso_num': 12}, {'country': 'Angola', 'continent': 'Africa', 'year': 2007, 'lifeExp': 42.731, 'pop': 12420476, 'gdpPercap': 4797.231267, 'iso_alpha': 'AGO', 'iso_num': 24}, {'country': 'Argentina', 'continent': 'Americas', 'year': 2007, 'lifeExp': 75.32, 'pop': 40301927, 'gdpPercap': 12779.37964, 'iso_alpha': 'ARG', 'iso_num': 32}, {'country': 'Australia', 'continent': 'Oceania', 'year': 2007, 'lifeExp': 81.235, 'pop': 20434176, 'gdpPercap': 34435.367439999995, 'iso_alpha': 'AUS', 'iso_num': 36}, {'country': 'Austria', 'continent': 'Europe', 'year': 2007, 'lifeExp': 79.829, 'pop': 8199783, 'gdpPercap': 36126.4927, 'iso_alpha': 'AUT', 'iso_num': 40}, {'country': 'Bahrain', 'continent': 'Asia', 'year': 2007, 'lifeExp': 75.635, 'pop': 708573, 'gdpPercap': 29796.04834, 'iso_alpha': 'BHR', 'iso_num': 48}, {'country': 'Bangladesh', 'continent': 'Asia', 'year': 2007, 'lifeExp': 64.062, 'pop': 150448339, 'gdpPercap': 1391.253792, 'iso_alpha': 'BGD', 'iso_num': 50}, {'country': 'Belgium', 'continent': 'Europe', 'year': 2007, 'lifeExp': 79.441, 'pop': 10392226, 'gdpPercap': 33692.60508, 'iso_alpha': 'BEL', 'iso_num': 56}, {'country': 'Benin', 'continent': 'Africa', 'year': 2007, 'lifeExp': 56.728, 'pop': 8078314, 'gdpPercap': 1441.284873, 'iso_alpha': 'BEN', 'iso_num': 204}, {'country': 'Bolivia', 'continent': 'Americas', 'year': 2007, 'lifeExp': 65.554, 'pop': 9119152, 'gdpPercap': 3822.137084, 'iso_alpha': 'BOL', 'iso_num': 68}, {'country': 'Bosnia and Herzegovina', 'continent': 'Europe', 'year': 2007, 'lifeExp': 74.852, 'pop': 4552198, 'gdpPercap': 7446.298803, 'iso_alpha': 'BIH', 'iso_num': 70}, {'country': 'Botswana', 'continent': 'Africa', 'year': 2007, 'lifeExp': 50.728, 'pop': 1639131, 'gdpPercap': 12569.85177, 'iso_alpha': 'BWA', 'iso_num': 72}, {'country': 'Brazil', 'continent': 'Americas', 'year': 2007, 'lifeExp': 72.39, 'pop': 190010647, 'gdpPercap': 9065.800825, 'iso_alpha': 'BRA', 'iso_num': 76}, {'country': 'Bulgaria', 'continent': 'Europe', 'year': 2007, 'lifeExp': 73.005, 'pop': 7322858, 'gdpPercap': 10680.79282, 'iso_alpha': 'BGR', 'iso_num': 100}, {'country': 'Burkina Faso', 'continent': 'Africa', 'year': 2007, 'lifeExp': 52.295, 'pop': 14326203, 'gdpPercap': 1217.032994, 'iso_alpha': 'BFA', 'iso_num': 854}, {'country': 'Burundi', 'continent': 'Africa', 'year': 2007, 'lifeExp': 49.58, 'pop': 8390505, 'gdpPercap': 430.0706916, 'iso_alpha': 'BDI', 'iso_num': 108}, {'country': 'Cambodia', 'continent': 'Asia', 'year': 2007, 'lifeExp': 59.723, 'pop': 14131858, 'gdpPercap': 1713.778686, 'iso_alpha': 'KHM', 'iso_num': 116}, {'country': 'Cameroon', 'continent': 'Africa', 'year': 2007, 'lifeExp': 50.43, 'pop': 17696293, 'gdpPercap': 2042.09524, 'iso_alpha': 'CMR', 'iso_num': 120}, {'country': 'Canada', 'continent': 'Americas', 'year': 2007, 'lifeExp': 80.653, 'pop': 33390141, 'gdpPercap': 36319.23501, 'iso_alpha': 'CAN', 'iso_num': 124}, {'country': 'Central African Republic', 'continent': 'Africa', 'year': 2007, 'lifeExp': 44.74100000000001, 'pop': 4369038, 'gdpPercap': 706.016537, 'iso_alpha': 'CAF', 'iso_num': 140}, {'country': 'Chad', 'continent': 'Africa', 'year': 2007, 'lifeExp': 50.651, 'pop': 10238807, 'gdpPercap': 1704.063724, 'iso_alpha': 'TCD', 'iso_num': 148}, {'country': 'Chile', 'continent': 'Americas', 'year': 2007, 'lifeExp': 78.553, 'pop': 16284741, 'gdpPercap': 13171.63885, 'iso_alpha': 'CHL', 'iso_num': 152}, {'country': 'China', 'continent': 'Asia', 'year': 2007, 'lifeExp': 72.961, 'pop': 1318683096, 'gdpPercap': 4959.114854, 'iso_alpha': 'CHN', 'iso_num': 156}, {'country': 'Colombia', 'continent': 'Americas', 'year': 2007, 'lifeExp': 72.889, 'pop': 44227550, 'gdpPercap': 7006.580419, 'iso_alpha': 'COL', 'iso_num': 170}, {'country': 'Comoros', 'continent': 'Africa', 'year': 2007, 'lifeExp': 65.152, 'pop': 710960, 'gdpPercap': 986.1478792, 'iso_alpha': 'COM', 'iso_num': 174}, {'country': 'Congo, Dem. Rep.', 'continent': 'Africa', 'year': 2007, 'lifeExp': 46.462, 'pop': 64606759, 'gdpPercap': 277.5518587, 'iso_alpha': 'COD', 'iso_num': 180}, {'country': 'Congo, Rep.', 'continent': 'Africa', 'year': 2007, 'lifeExp': 55.322, 'pop': 3800610, 'gdpPercap': 3632.557798, 'iso_alpha': 'COG', 'iso_num': 178}, {'country': 'Costa Rica', 'continent': 'Americas', 'year': 2007, 'lifeExp': 78.782, 'pop': 4133884, 'gdpPercap': 9645.06142, 'iso_alpha': 'CRI', 'iso_num': 188}, {'country': \"Cote d'Ivoire\", 'continent': 'Africa', 'year': 2007, 'lifeExp': 48.328, 'pop': 18013409, 'gdpPercap': 1544.750112, 'iso_alpha': 'CIV', 'iso_num': 384}, {'country': 'Croatia', 'continent': 'Europe', 'year': 2007, 'lifeExp': 75.748, 'pop': 4493312, 'gdpPercap': 14619.222719999998, 'iso_alpha': 'HRV', 'iso_num': 191}, {'country': 'Cuba', 'continent': 'Americas', 'year': 2007, 'lifeExp': 78.273, 'pop': 11416987, 'gdpPercap': 8948.102923, 'iso_alpha': 'CUB', 'iso_num': 192}, {'country': 'Czech Republic', 'continent': 'Europe', 'year': 2007, 'lifeExp': 76.486, 'pop': 10228744, 'gdpPercap': 22833.30851, 'iso_alpha': 'CZE', 'iso_num': 203}, {'country': 'Denmark', 'continent': 'Europe', 'year': 2007, 'lifeExp': 78.332, 'pop': 5468120, 'gdpPercap': 35278.41874, 'iso_alpha': 'DNK', 'iso_num': 208}, {'country': 'Djibouti', 'continent': 'Africa', 'year': 2007, 'lifeExp': 54.791, 'pop': 496374, 'gdpPercap': 2082.4815670000007, 'iso_alpha': 'DJI', 'iso_num': 262}, {'country': 'Dominican Republic', 'continent': 'Americas', 'year': 2007, 'lifeExp': 72.235, 'pop': 9319622, 'gdpPercap': 6025.3747520000015, 'iso_alpha': 'DOM', 'iso_num': 214}, {'country': 'Ecuador', 'continent': 'Americas', 'year': 2007, 'lifeExp': 74.994, 'pop': 13755680, 'gdpPercap': 6873.262326000001, 'iso_alpha': 'ECU', 'iso_num': 218}, {'country': 'Egypt', 'continent': 'Africa', 'year': 2007, 'lifeExp': 71.33800000000002, 'pop': 80264543, 'gdpPercap': 5581.180998, 'iso_alpha': 'EGY', 'iso_num': 818}, {'country': 'El Salvador', 'continent': 'Americas', 'year': 2007, 'lifeExp': 71.878, 'pop': 6939688, 'gdpPercap': 5728.353514, 'iso_alpha': 'SLV', 'iso_num': 222}, {'country': 'Equatorial Guinea', 'continent': 'Africa', 'year': 2007, 'lifeExp': 51.57899999999999, 'pop': 551201, 'gdpPercap': 12154.08975, 'iso_alpha': 'GNQ', 'iso_num': 226}, {'country': 'Eritrea', 'continent': 'Africa', 'year': 2007, 'lifeExp': 58.04, 'pop': 4906585, 'gdpPercap': 641.3695236000002, 'iso_alpha': 'ERI', 'iso_num': 232}, {'country': 'Ethiopia', 'continent': 'Africa', 'year': 2007, 'lifeExp': 52.947, 'pop': 76511887, 'gdpPercap': 690.8055759, 'iso_alpha': 'ETH', 'iso_num': 231}, {'country': 'Finland', 'continent': 'Europe', 'year': 2007, 'lifeExp': 79.313, 'pop': 5238460, 'gdpPercap': 33207.0844, 'iso_alpha': 'FIN', 'iso_num': 246}, {'country': 'France', 'continent': 'Europe', 'year': 2007, 'lifeExp': 80.657, 'pop': 61083916, 'gdpPercap': 30470.0167, 'iso_alpha': 'FRA', 'iso_num': 250}, {'country': 'Gabon', 'continent': 'Africa', 'year': 2007, 'lifeExp': 56.735, 'pop': 1454867, 'gdpPercap': 13206.48452, 'iso_alpha': 'GAB', 'iso_num': 266}, {'country': 'Gambia', 'continent': 'Africa', 'year': 2007, 'lifeExp': 59.448, 'pop': 1688359, 'gdpPercap': 752.7497265, 'iso_alpha': 'GMB', 'iso_num': 270}, {'country': 'Germany', 'continent': 'Europe', 'year': 2007, 'lifeExp': 79.406, 'pop': 82400996, 'gdpPercap': 32170.37442, 'iso_alpha': 'DEU', 'iso_num': 276}, {'country': 'Ghana', 'continent': 'Africa', 'year': 2007, 'lifeExp': 60.022, 'pop': 22873338, 'gdpPercap': 1327.60891, 'iso_alpha': 'GHA', 'iso_num': 288}, {'country': 'Greece', 'continent': 'Europe', 'year': 2007, 'lifeExp': 79.483, 'pop': 10706290, 'gdpPercap': 27538.41188, 'iso_alpha': 'GRC', 'iso_num': 300}, {'country': 'Guatemala', 'continent': 'Americas', 'year': 2007, 'lifeExp': 70.259, 'pop': 12572928, 'gdpPercap': 5186.050003, 'iso_alpha': 'GTM', 'iso_num': 320}, {'country': 'Guinea', 'continent': 'Africa', 'year': 2007, 'lifeExp': 56.007, 'pop': 9947814, 'gdpPercap': 942.6542111, 'iso_alpha': 'GIN', 'iso_num': 324}, {'country': 'Guinea-Bissau', 'continent': 'Africa', 'year': 2007, 'lifeExp': 46.38800000000001, 'pop': 1472041, 'gdpPercap': 579.2317429999998, 'iso_alpha': 'GNB', 'iso_num': 624}, {'country': 'Haiti', 'continent': 'Americas', 'year': 2007, 'lifeExp': 60.916, 'pop': 8502814, 'gdpPercap': 1201.637154, 'iso_alpha': 'HTI', 'iso_num': 332}, {'country': 'Honduras', 'continent': 'Americas', 'year': 2007, 'lifeExp': 70.19800000000001, 'pop': 7483763, 'gdpPercap': 3548.3308460000007, 'iso_alpha': 'HND', 'iso_num': 340}, {'country': 'Hong Kong, China', 'continent': 'Asia', 'year': 2007, 'lifeExp': 82.208, 'pop': 6980412, 'gdpPercap': 39724.97867, 'iso_alpha': 'HKG', 'iso_num': 344}, {'country': 'Hungary', 'continent': 'Europe', 'year': 2007, 'lifeExp': 73.33800000000002, 'pop': 9956108, 'gdpPercap': 18008.94444, 'iso_alpha': 'HUN', 'iso_num': 348}, {'country': 'Iceland', 'continent': 'Europe', 'year': 2007, 'lifeExp': 81.757, 'pop': 301931, 'gdpPercap': 36180.78919, 'iso_alpha': 'ISL', 'iso_num': 352}, {'country': 'India', 'continent': 'Asia', 'year': 2007, 'lifeExp': 64.69800000000001, 'pop': 1110396331, 'gdpPercap': 2452.210407, 'iso_alpha': 'IND', 'iso_num': 356}, {'country': 'Indonesia', 'continent': 'Asia', 'year': 2007, 'lifeExp': 70.65, 'pop': 223547000, 'gdpPercap': 3540.651564, 'iso_alpha': 'IDN', 'iso_num': 360}, {'country': 'Iran', 'continent': 'Asia', 'year': 2007, 'lifeExp': 70.964, 'pop': 69453570, 'gdpPercap': 11605.71449, 'iso_alpha': 'IRN', 'iso_num': 364}, {'country': 'Iraq', 'continent': 'Asia', 'year': 2007, 'lifeExp': 59.545, 'pop': 27499638, 'gdpPercap': 4471.061906, 'iso_alpha': 'IRQ', 'iso_num': 368}, {'country': 'Ireland', 'continent': 'Europe', 'year': 2007, 'lifeExp': 78.885, 'pop': 4109086, 'gdpPercap': 40675.99635, 'iso_alpha': 'IRL', 'iso_num': 372}, {'country': 'Israel', 'continent': 'Asia', 'year': 2007, 'lifeExp': 80.745, 'pop': 6426679, 'gdpPercap': 25523.2771, 'iso_alpha': 'ISR', 'iso_num': 376}, {'country': 'Italy', 'continent': 'Europe', 'year': 2007, 'lifeExp': 80.546, 'pop': 58147733, 'gdpPercap': 28569.7197, 'iso_alpha': 'ITA', 'iso_num': 380}, {'country': 'Jamaica', 'continent': 'Americas', 'year': 2007, 'lifeExp': 72.567, 'pop': 2780132, 'gdpPercap': 7320.8802620000015, 'iso_alpha': 'JAM', 'iso_num': 388}, {'country': 'Japan', 'continent': 'Asia', 'year': 2007, 'lifeExp': 82.603, 'pop': 127467972, 'gdpPercap': 31656.06806, 'iso_alpha': 'JPN', 'iso_num': 392}, {'country': 'Jordan', 'continent': 'Asia', 'year': 2007, 'lifeExp': 72.535, 'pop': 6053193, 'gdpPercap': 4519.461171, 'iso_alpha': 'JOR', 'iso_num': 400}, {'country': 'Kenya', 'continent': 'Africa', 'year': 2007, 'lifeExp': 54.11, 'pop': 35610177, 'gdpPercap': 1463.249282, 'iso_alpha': 'KEN', 'iso_num': 404}, {'country': 'Korea, Dem. Rep.', 'continent': 'Asia', 'year': 2007, 'lifeExp': 67.297, 'pop': 23301725, 'gdpPercap': 1593.06548, 'iso_alpha': 'KOR', 'iso_num': 410}, {'country': 'Korea, Rep.', 'continent': 'Asia', 'year': 2007, 'lifeExp': 78.623, 'pop': 49044790, 'gdpPercap': 23348.139730000006, 'iso_alpha': 'KOR', 'iso_num': 410}, {'country': 'Kuwait', 'continent': 'Asia', 'year': 2007, 'lifeExp': 77.58800000000002, 'pop': 2505559, 'gdpPercap': 47306.98978, 'iso_alpha': 'KWT', 'iso_num': 414}, {'country': 'Lebanon', 'continent': 'Asia', 'year': 2007, 'lifeExp': 71.993, 'pop': 3921278, 'gdpPercap': 10461.05868, 'iso_alpha': 'LBN', 'iso_num': 422}, {'country': 'Lesotho', 'continent': 'Africa', 'year': 2007, 'lifeExp': 42.592, 'pop': 2012649, 'gdpPercap': 1569.331442, 'iso_alpha': 'LSO', 'iso_num': 426}, {'country': 'Liberia', 'continent': 'Africa', 'year': 2007, 'lifeExp': 45.678, 'pop': 3193942, 'gdpPercap': 414.5073415, 'iso_alpha': 'LBR', 'iso_num': 430}, {'country': 'Libya', 'continent': 'Africa', 'year': 2007, 'lifeExp': 73.952, 'pop': 6036914, 'gdpPercap': 12057.49928, 'iso_alpha': 'LBY', 'iso_num': 434}, {'country': 'Madagascar', 'continent': 'Africa', 'year': 2007, 'lifeExp': 59.44300000000001, 'pop': 19167654, 'gdpPercap': 1044.770126, 'iso_alpha': 'MDG', 'iso_num': 450}, {'country': 'Malawi', 'continent': 'Africa', 'year': 2007, 'lifeExp': 48.303, 'pop': 13327079, 'gdpPercap': 759.3499101, 'iso_alpha': 'MWI', 'iso_num': 454}, {'country': 'Malaysia', 'continent': 'Asia', 'year': 2007, 'lifeExp': 74.241, 'pop': 24821286, 'gdpPercap': 12451.6558, 'iso_alpha': 'MYS', 'iso_num': 458}, {'country': 'Mali', 'continent': 'Africa', 'year': 2007, 'lifeExp': 54.467, 'pop': 12031795, 'gdpPercap': 1042.581557, 'iso_alpha': 'MLI', 'iso_num': 466}, {'country': 'Mauritania', 'continent': 'Africa', 'year': 2007, 'lifeExp': 64.164, 'pop': 3270065, 'gdpPercap': 1803.151496, 'iso_alpha': 'MRT', 'iso_num': 478}, {'country': 'Mauritius', 'continent': 'Africa', 'year': 2007, 'lifeExp': 72.801, 'pop': 1250882, 'gdpPercap': 10956.99112, 'iso_alpha': 'MUS', 'iso_num': 480}, {'country': 'Mexico', 'continent': 'Americas', 'year': 2007, 'lifeExp': 76.195, 'pop': 108700891, 'gdpPercap': 11977.57496, 'iso_alpha': 'MEX', 'iso_num': 484}, {'country': 'Mongolia', 'continent': 'Asia', 'year': 2007, 'lifeExp': 66.803, 'pop': 2874127, 'gdpPercap': 3095.7722710000007, 'iso_alpha': 'MNG', 'iso_num': 496}, {'country': 'Montenegro', 'continent': 'Europe', 'year': 2007, 'lifeExp': 74.543, 'pop': 684736, 'gdpPercap': 9253.896111, 'iso_alpha': 'MNE', 'iso_num': 499}, {'country': 'Morocco', 'continent': 'Africa', 'year': 2007, 'lifeExp': 71.164, 'pop': 33757175, 'gdpPercap': 3820.17523, 'iso_alpha': 'MAR', 'iso_num': 504}, {'country': 'Mozambique', 'continent': 'Africa', 'year': 2007, 'lifeExp': 42.082, 'pop': 19951656, 'gdpPercap': 823.6856205, 'iso_alpha': 'MOZ', 'iso_num': 508}, {'country': 'Myanmar', 'continent': 'Asia', 'year': 2007, 'lifeExp': 62.069, 'pop': 47761980, 'gdpPercap': 944.0, 'iso_alpha': 'MMR', 'iso_num': 104}, {'country': 'Namibia', 'continent': 'Africa', 'year': 2007, 'lifeExp': 52.90600000000001, 'pop': 2055080, 'gdpPercap': 4811.060429, 'iso_alpha': 'NAM', 'iso_num': 516}, {'country': 'Nepal', 'continent': 'Asia', 'year': 2007, 'lifeExp': 63.785, 'pop': 28901790, 'gdpPercap': 1091.359778, 'iso_alpha': 'NPL', 'iso_num': 524}, {'country': 'Netherlands', 'continent': 'Europe', 'year': 2007, 'lifeExp': 79.762, 'pop': 16570613, 'gdpPercap': 36797.93332, 'iso_alpha': 'NLD', 'iso_num': 528}, {'country': 'New Zealand', 'continent': 'Oceania', 'year': 2007, 'lifeExp': 80.204, 'pop': 4115771, 'gdpPercap': 25185.00911, 'iso_alpha': 'NZL', 'iso_num': 554}, {'country': 'Nicaragua', 'continent': 'Americas', 'year': 2007, 'lifeExp': 72.899, 'pop': 5675356, 'gdpPercap': 2749.320965, 'iso_alpha': 'NIC', 'iso_num': 558}, {'country': 'Niger', 'continent': 'Africa', 'year': 2007, 'lifeExp': 56.867, 'pop': 12894865, 'gdpPercap': 619.6768923999998, 'iso_alpha': 'NER', 'iso_num': 562}, {'country': 'Nigeria', 'continent': 'Africa', 'year': 2007, 'lifeExp': 46.859, 'pop': 135031164, 'gdpPercap': 2013.977305, 'iso_alpha': 'NGA', 'iso_num': 566}, {'country': 'Norway', 'continent': 'Europe', 'year': 2007, 'lifeExp': 80.196, 'pop': 4627926, 'gdpPercap': 49357.19017, 'iso_alpha': 'NOR', 'iso_num': 578}, {'country': 'Oman', 'continent': 'Asia', 'year': 2007, 'lifeExp': 75.64, 'pop': 3204897, 'gdpPercap': 22316.19287, 'iso_alpha': 'OMN', 'iso_num': 512}, {'country': 'Pakistan', 'continent': 'Asia', 'year': 2007, 'lifeExp': 65.483, 'pop': 169270617, 'gdpPercap': 2605.94758, 'iso_alpha': 'PAK', 'iso_num': 586}, {'country': 'Panama', 'continent': 'Americas', 'year': 2007, 'lifeExp': 75.53699999999998, 'pop': 3242173, 'gdpPercap': 9809.185636, 'iso_alpha': 'PAN', 'iso_num': 591}, {'country': 'Paraguay', 'continent': 'Americas', 'year': 2007, 'lifeExp': 71.752, 'pop': 6667147, 'gdpPercap': 4172.838464, 'iso_alpha': 'PRY', 'iso_num': 600}, {'country': 'Peru', 'continent': 'Americas', 'year': 2007, 'lifeExp': 71.421, 'pop': 28674757, 'gdpPercap': 7408.905561, 'iso_alpha': 'PER', 'iso_num': 604}, {'country': 'Philippines', 'continent': 'Asia', 'year': 2007, 'lifeExp': 71.688, 'pop': 91077287, 'gdpPercap': 3190.481016, 'iso_alpha': 'PHL', 'iso_num': 608}, {'country': 'Poland', 'continent': 'Europe', 'year': 2007, 'lifeExp': 75.563, 'pop': 38518241, 'gdpPercap': 15389.924680000002, 'iso_alpha': 'POL', 'iso_num': 616}, {'country': 'Portugal', 'continent': 'Europe', 'year': 2007, 'lifeExp': 78.098, 'pop': 10642836, 'gdpPercap': 20509.64777, 'iso_alpha': 'PRT', 'iso_num': 620}, {'country': 'Puerto Rico', 'continent': 'Americas', 'year': 2007, 'lifeExp': 78.74600000000002, 'pop': 3942491, 'gdpPercap': 19328.70901, 'iso_alpha': 'PRI', 'iso_num': 630}, {'country': 'Reunion', 'continent': 'Africa', 'year': 2007, 'lifeExp': 76.442, 'pop': 798094, 'gdpPercap': 7670.122558, 'iso_alpha': 'REU', 'iso_num': 638}, {'country': 'Romania', 'continent': 'Europe', 'year': 2007, 'lifeExp': 72.476, 'pop': 22276056, 'gdpPercap': 10808.47561, 'iso_alpha': 'ROU', 'iso_num': 642}, {'country': 'Rwanda', 'continent': 'Africa', 'year': 2007, 'lifeExp': 46.242, 'pop': 8860588, 'gdpPercap': 863.0884639000002, 'iso_alpha': 'RWA', 'iso_num': 646}, {'country': 'Sao Tome and Principe', 'continent': 'Africa', 'year': 2007, 'lifeExp': 65.528, 'pop': 199579, 'gdpPercap': 1598.435089, 'iso_alpha': 'STP', 'iso_num': 678}, {'country': 'Saudi Arabia', 'continent': 'Asia', 'year': 2007, 'lifeExp': 72.777, 'pop': 27601038, 'gdpPercap': 21654.83194, 'iso_alpha': 'SAU', 'iso_num': 682}, {'country': 'Senegal', 'continent': 'Africa', 'year': 2007, 'lifeExp': 63.062, 'pop': 12267493, 'gdpPercap': 1712.472136, 'iso_alpha': 'SEN', 'iso_num': 686}, {'country': 'Serbia', 'continent': 'Europe', 'year': 2007, 'lifeExp': 74.002, 'pop': 10150265, 'gdpPercap': 9786.534714, 'iso_alpha': 'SRB', 'iso_num': 688}, {'country': 'Sierra Leone', 'continent': 'Africa', 'year': 2007, 'lifeExp': 42.56800000000001, 'pop': 6144562, 'gdpPercap': 862.5407561000002, 'iso_alpha': 'SLE', 'iso_num': 694}, {'country': 'Singapore', 'continent': 'Asia', 'year': 2007, 'lifeExp': 79.972, 'pop': 4553009, 'gdpPercap': 47143.17964, 'iso_alpha': 'SGP', 'iso_num': 702}, {'country': 'Slovak Republic', 'continent': 'Europe', 'year': 2007, 'lifeExp': 74.663, 'pop': 5447502, 'gdpPercap': 18678.31435, 'iso_alpha': 'SVK', 'iso_num': 703}, {'country': 'Slovenia', 'continent': 'Europe', 'year': 2007, 'lifeExp': 77.926, 'pop': 2009245, 'gdpPercap': 25768.25759, 'iso_alpha': 'SVN', 'iso_num': 705}, {'country': 'Somalia', 'continent': 'Africa', 'year': 2007, 'lifeExp': 48.159, 'pop': 9118773, 'gdpPercap': 926.1410683, 'iso_alpha': 'SOM', 'iso_num': 706}, {'country': 'South Africa', 'continent': 'Africa', 'year': 2007, 'lifeExp': 49.339, 'pop': 43997828, 'gdpPercap': 9269.657808, 'iso_alpha': 'ZAF', 'iso_num': 710}, {'country': 'Spain', 'continent': 'Europe', 'year': 2007, 'lifeExp': 80.941, 'pop': 40448191, 'gdpPercap': 28821.0637, 'iso_alpha': 'ESP', 'iso_num': 724}, {'country': 'Sri Lanka', 'continent': 'Asia', 'year': 2007, 'lifeExp': 72.396, 'pop': 20378239, 'gdpPercap': 3970.095407, 'iso_alpha': 'LKA', 'iso_num': 144}, {'country': 'Sudan', 'continent': 'Africa', 'year': 2007, 'lifeExp': 58.556, 'pop': 42292929, 'gdpPercap': 2602.394995, 'iso_alpha': 'SDN', 'iso_num': 736}, {'country': 'Swaziland', 'continent': 'Africa', 'year': 2007, 'lifeExp': 39.613, 'pop': 1133066, 'gdpPercap': 4513.480643, 'iso_alpha': 'SWZ', 'iso_num': 748}, {'country': 'Sweden', 'continent': 'Europe', 'year': 2007, 'lifeExp': 80.884, 'pop': 9031088, 'gdpPercap': 33859.74835, 'iso_alpha': 'SWE', 'iso_num': 752}, {'country': 'Switzerland', 'continent': 'Europe', 'year': 2007, 'lifeExp': 81.70100000000002, 'pop': 7554661, 'gdpPercap': 37506.41907, 'iso_alpha': 'CHE', 'iso_num': 756}, {'country': 'Syria', 'continent': 'Asia', 'year': 2007, 'lifeExp': 74.143, 'pop': 19314747, 'gdpPercap': 4184.548089, 'iso_alpha': 'SYR', 'iso_num': 760}, {'country': 'Taiwan', 'continent': 'Asia', 'year': 2007, 'lifeExp': 78.4, 'pop': 23174294, 'gdpPercap': 28718.27684, 'iso_alpha': 'TWN', 'iso_num': 158}, {'country': 'Tanzania', 'continent': 'Africa', 'year': 2007, 'lifeExp': 52.517, 'pop': 38139640, 'gdpPercap': 1107.482182, 'iso_alpha': 'TZA', 'iso_num': 834}, {'country': 'Thailand', 'continent': 'Asia', 'year': 2007, 'lifeExp': 70.616, 'pop': 65068149, 'gdpPercap': 7458.396326999998, 'iso_alpha': 'THA', 'iso_num': 764}, {'country': 'Togo', 'continent': 'Africa', 'year': 2007, 'lifeExp': 58.42, 'pop': 5701579, 'gdpPercap': 882.9699437999999, 'iso_alpha': 'TGO', 'iso_num': 768}, {'country': 'Trinidad and Tobago', 'continent': 'Americas', 'year': 2007, 'lifeExp': 69.819, 'pop': 1056608, 'gdpPercap': 18008.50924, 'iso_alpha': 'TTO', 'iso_num': 780}, {'country': 'Tunisia', 'continent': 'Africa', 'year': 2007, 'lifeExp': 73.923, 'pop': 10276158, 'gdpPercap': 7092.923025, 'iso_alpha': 'TUN', 'iso_num': 788}, {'country': 'Turkey', 'continent': 'Europe', 'year': 2007, 'lifeExp': 71.777, 'pop': 71158647, 'gdpPercap': 8458.276384, 'iso_alpha': 'TUR', 'iso_num': 792}, {'country': 'Uganda', 'continent': 'Africa', 'year': 2007, 'lifeExp': 51.542, 'pop': 29170398, 'gdpPercap': 1056.380121, 'iso_alpha': 'UGA', 'iso_num': 800}, {'country': 'United Kingdom', 'continent': 'Europe', 'year': 2007, 'lifeExp': 79.425, 'pop': 60776238, 'gdpPercap': 33203.26128, 'iso_alpha': 'GBR', 'iso_num': 826}, {'country': 'United States', 'continent': 'Americas', 'year': 2007, 'lifeExp': 78.242, 'pop': 301139947, 'gdpPercap': 42951.65309, 'iso_alpha': 'USA', 'iso_num': 840}, {'country': 'Uruguay', 'continent': 'Americas', 'year': 2007, 'lifeExp': 76.384, 'pop': 3447496, 'gdpPercap': 10611.46299, 'iso_alpha': 'URY', 'iso_num': 858}, {'country': 'Venezuela', 'continent': 'Americas', 'year': 2007, 'lifeExp': 73.747, 'pop': 26084662, 'gdpPercap': 11415.80569, 'iso_alpha': 'VEN', 'iso_num': 862}, {'country': 'Vietnam', 'continent': 'Asia', 'year': 2007, 'lifeExp': 74.249, 'pop': 85262356, 'gdpPercap': 2441.576404, 'iso_alpha': 'VNM', 'iso_num': 704}, {'country': 'West Bank and Gaza', 'continent': 'Asia', 'year': 2007, 'lifeExp': 73.422, 'pop': 4018332, 'gdpPercap': 3025.349798, 'iso_alpha': 'PSE', 'iso_num': 275}, {'country': 'Yemen, Rep.', 'continent': 'Asia', 'year': 2007, 'lifeExp': 62.698, 'pop': 22211743, 'gdpPercap': 2280.769906, 'iso_alpha': 'YEM', 'iso_num': 887}, {'country': 'Zambia', 'continent': 'Africa', 'year': 2007, 'lifeExp': 42.38399999999999, 'pop': 11746035, 'gdpPercap': 1271.211593, 'iso_alpha': 'ZMB', 'iso_num': 894}, {'country': 'Zimbabwe', 'continent': 'Africa', 'year': 2007, 'lifeExp': 43.487, 'pop': 12311143, 'gdpPercap': 469.70929810000007, 'iso_alpha': 'ZWE', 'iso_num': 716}]\n"
     ]
    },
    {
     "data": {
      "text/html": [
       "\n",
       "        <iframe\n",
       "            width=\"100%\"\n",
       "            height=\"650\"\n",
       "            src=\"http://127.0.0.1:8050/\"\n",
       "            frameborder=\"0\"\n",
       "            allowfullscreen\n",
       "            \n",
       "        ></iframe>\n",
       "        "
      ],
      "text/plain": [
       "<IPython.lib.display.IFrame at 0x24633380fa0>"
      ]
     },
     "metadata": {},
     "output_type": "display_data"
    },
    {
     "name": "stdout",
     "output_type": "stream",
     "text": [
      "\u001b[1;31m---------------------------------------------------------------------------\u001b[0m\n",
      "\u001b[1;31mKeyError\u001b[0m                                  Traceback (most recent call last)\n",
      "File \u001b[1;32md:\\DevProjects\\Anaconda\\envs\\FPL2021\\lib\\site-packages\\dash\\dash.py:1255\u001b[0m, in \u001b[0;36mDash.dispatch\u001b[1;34m(self=<dash.dash.Dash object>)\u001b[0m\n",
      "\u001b[0;32m   1254\u001b[0m \u001b[38;5;28;01mtry\u001b[39;00m:\n",
      "\u001b[1;32m-> 1255\u001b[0m     cb \u001b[38;5;241m=\u001b[39m \u001b[38;5;28;43mself\u001b[39;49m\u001b[38;5;241;43m.\u001b[39;49m\u001b[43mcallback_map\u001b[49m\u001b[43m[\u001b[49m\u001b[43moutput\u001b[49m\u001b[43m]\u001b[49m\n",
      "        output \u001b[1;34m= '..table-placeholder.data...graph-placeholder.figure..'\u001b[0m\u001b[1;34m\n",
      "        \u001b[0mself.callback_map \u001b[1;34m= {'graph-placeholder.figure': {'inputs': [{'id': 'dmc=select-year', 'property': 'value'}], 'state': [], 'outputs_indices': 0, 'inputs_state_indices': 0, 'long': None, 'output': <Output `graph-placeholder.figure`>, 'raw_inputs': [<Input `dmc=select-year.value`>], 'manager': None, 'callback': <function update_graph at 0x0000024636EEA1F0>}}\u001b[0m\u001b[1;34m\n",
      "        \u001b[0mself \u001b[1;34m= <dash.dash.Dash object at 0x0000024635E534C0>\u001b[0m\n",
      "\u001b[0;32m   1256\u001b[0m     func \u001b[38;5;241m=\u001b[39m cb[\u001b[38;5;124m\"\u001b[39m\u001b[38;5;124mcallback\u001b[39m\u001b[38;5;124m\"\u001b[39m]\n",
      "\n",
      "\u001b[1;31mKeyError\u001b[0m: '..table-placeholder.data...graph-placeholder.figure..'\n",
      "\n",
      "The above exception was the direct cause of the following exception:\n",
      "\n",
      "\u001b[1;31mKeyError\u001b[0m                                  Traceback (most recent call last)\n",
      "File \u001b[1;32md:\\DevProjects\\Anaconda\\envs\\FPL2021\\lib\\site-packages\\flask\\app.py:867\u001b[0m, in \u001b[0;36mFlask.full_dispatch_request\u001b[1;34m(self=<Flask '__main__'>)\u001b[0m\n",
      "\u001b[0;32m    865\u001b[0m     rv \u001b[38;5;241m=\u001b[39m \u001b[38;5;28mself\u001b[39m\u001b[38;5;241m.\u001b[39mpreprocess_request()\n",
      "\u001b[0;32m    866\u001b[0m     \u001b[38;5;28;01mif\u001b[39;00m rv \u001b[38;5;129;01mis\u001b[39;00m \u001b[38;5;28;01mNone\u001b[39;00m:\n",
      "\u001b[1;32m--> 867\u001b[0m         rv \u001b[38;5;241m=\u001b[39m \u001b[38;5;28;43mself\u001b[39;49m\u001b[38;5;241;43m.\u001b[39;49m\u001b[43mdispatch_request\u001b[49m\u001b[43m(\u001b[49m\u001b[43m)\u001b[49m\n",
      "        self \u001b[1;34m= <Flask '__main__'>\u001b[0m\u001b[1;34m\n",
      "        \u001b[0mrv \u001b[1;34m= None\u001b[0m\n",
      "\u001b[0;32m    868\u001b[0m \u001b[38;5;28;01mexcept\u001b[39;00m \u001b[38;5;167;01mException\u001b[39;00m \u001b[38;5;28;01mas\u001b[39;00m e:\n",
      "\u001b[0;32m    869\u001b[0m     rv \u001b[38;5;241m=\u001b[39m \u001b[38;5;28mself\u001b[39m\u001b[38;5;241m.\u001b[39mhandle_user_exception(e)\n",
      "\n",
      "File \u001b[1;32md:\\DevProjects\\Anaconda\\envs\\FPL2021\\lib\\site-packages\\flask\\app.py:852\u001b[0m, in \u001b[0;36mFlask.dispatch_request\u001b[1;34m(self=<Flask '__main__'>)\u001b[0m\n",
      "\u001b[0;32m    850\u001b[0m \u001b[38;5;66;03m# otherwise dispatch to the handler for that endpoint\u001b[39;00m\n",
      "\u001b[0;32m    851\u001b[0m view_args: \u001b[38;5;28mdict\u001b[39m[\u001b[38;5;28mstr\u001b[39m, t\u001b[38;5;241m.\u001b[39mAny] \u001b[38;5;241m=\u001b[39m req\u001b[38;5;241m.\u001b[39mview_args  \u001b[38;5;66;03m# type: ignore[assignment]\u001b[39;00m\n",
      "\u001b[1;32m--> 852\u001b[0m \u001b[38;5;28;01mreturn\u001b[39;00m \u001b[38;5;28mself\u001b[39m\u001b[38;5;241m.\u001b[39mensure_sync(\u001b[38;5;28mself\u001b[39m\u001b[38;5;241m.\u001b[39mview_functions[rule\u001b[38;5;241m.\u001b[39mendpoint])(\u001b[38;5;241m*\u001b[39m\u001b[38;5;241m*\u001b[39mview_args)\n",
      "        rule \u001b[1;34m= <Rule '/_dash-update-component' (POST, OPTIONS) -> /_dash-update-component>\u001b[0m\u001b[1;34m\n",
      "        \u001b[0mview_args \u001b[1;34m= {}\u001b[0m\u001b[1;34m\n",
      "        \u001b[0mself.view_functions[rule.endpoint] \u001b[1;34m= <bound method Dash.dispatch of <dash.dash.Dash object at 0x0000024635E534C0>>\u001b[0m\u001b[1;34m\n",
      "        \u001b[0mself \u001b[1;34m= <Flask '__main__'>\u001b[0m\u001b[1;34m\n",
      "        \u001b[0mself.view_functions \u001b[1;34m= {'static': <function Flask.__init__.<locals>.<lambda> at 0x000002463629C670>, '_dash_assets.static': <bound method Blueprint.send_static_file of <Blueprint '_dash_assets'>>, '/_dash-component-suites/<string:package_name>/<path:fingerprinted_path>': <bound method Dash.serve_component_suites of <dash.dash.Dash object at 0x0000024635E534C0>>, '/_dash-layout': <bound method Dash.serve_layout of <dash.dash.Dash object at 0x0000024635E534C0>>, '/_dash-dependencies': <bound method Dash.dependencies of <dash.dash.Dash object at 0x0000024635E534C0>>, '/_dash-update-component': <bound method Dash.dispatch of <dash.dash.Dash object at 0x0000024635E534C0>>, '/_reload-hash': <bound method Dash.serve_reload_hash of <dash.dash.Dash object at 0x0000024635E534C0>>, '/_favicon.ico': <function Dash._serve_default_favicon at 0x000002462D29E670>, '/': <bound method Dash.index of <dash.dash.Dash object at 0x0000024635E534C0>>, '/_alive_a4b79cdf-2ae8-468e-ba2b-33ebabac4697': <function JupyterDash.serve_alive at 0x000002462D26F3A0>, '/<path:path>': <bound method Dash.index of <dash.dash.Dash object at 0x0000024635E534C0>>}\u001b[0m\u001b[1;34m\n",
      "        \u001b[0mrule.endpoint \u001b[1;34m= '/_dash-update-component'\u001b[0m\n",
      "\n",
      "File \u001b[1;32md:\\DevProjects\\Anaconda\\envs\\FPL2021\\lib\\site-packages\\dash\\dash.py:1306\u001b[0m, in \u001b[0;36mDash.dispatch\u001b[1;34m(self=<dash.dash.Dash object>)\u001b[0m\n",
      "\u001b[0;32m   1304\u001b[0m \u001b[38;5;28;01mexcept\u001b[39;00m \u001b[38;5;167;01mKeyError\u001b[39;00m \u001b[38;5;28;01mas\u001b[39;00m missing_callback_function:\n",
      "\u001b[0;32m   1305\u001b[0m     msg \u001b[38;5;241m=\u001b[39m \u001b[38;5;124mf\u001b[39m\u001b[38;5;124m\"\u001b[39m\u001b[38;5;124mCallback function not found for output \u001b[39m\u001b[38;5;124m'\u001b[39m\u001b[38;5;132;01m{\u001b[39;00moutput\u001b[38;5;132;01m}\u001b[39;00m\u001b[38;5;124m'\u001b[39m\u001b[38;5;124m, perhaps you forgot to prepend the \u001b[39m\u001b[38;5;124m'\u001b[39m\u001b[38;5;124m@\u001b[39m\u001b[38;5;124m'\u001b[39m\u001b[38;5;124m?\u001b[39m\u001b[38;5;124m\"\u001b[39m\n",
      "\u001b[1;32m-> 1306\u001b[0m     \u001b[38;5;28;01mraise\u001b[39;00m \u001b[38;5;167;01mKeyError\u001b[39;00m(msg) \u001b[38;5;28;01mfrom\u001b[39;00m \u001b[38;5;21;01mmissing_callback_function\u001b[39;00m\n",
      "        msg \u001b[1;34m= \"Callback function not found for output '..table-placeholder.data...graph-placeholder.figure..', perhaps you forgot to prepend the '@'?\"\u001b[0m\n",
      "\u001b[0;32m   1307\u001b[0m ctx \u001b[38;5;241m=\u001b[39m copy_context()\n",
      "\u001b[0;32m   1308\u001b[0m \u001b[38;5;66;03m# noinspection PyArgumentList\u001b[39;00m\n",
      "\n",
      "\u001b[1;31mKeyError\u001b[0m: \"Callback function not found for output '..table-placeholder.data...graph-placeholder.figure..', perhaps you forgot to prepend the '@'?\"\n",
      "\n"
     ]
    }
   ],
   "source": [
    "# Incorporate data\n",
    "df = px.data.gapminder()\n",
    "\n",
    "# Create a list of dictionaries for each selectable year\n",
    "year_list = df.year.unique().tolist()\n",
    "dmc_year_list = [{\"value\": year, \"label\": str(year)} for year in original_list]\n",
    "\n",
    "print(result_list)\n",
    "\n",
    "print(df.loc[df.year==2007].to_dict('records'))\n",
    "#print(df.loc[df.year==2007].to_records())\n",
    "\n",
    "## Initialize the app - incorporate css\n",
    "external_stylesheets = [dmc.theme.DEFAULT_COLORS]\n",
    "app = Dash(__name__, external_stylesheets=external_stylesheets)\n",
    "\n",
    "# App layout\n",
    "app.layout = dmc.Container([\n",
    "    #Heading Text\n",
    "    dmc.Title(\n",
    "        'Unfiltered Gapminder App with Data, Graph, and Controls', color=\"blue\", size=\"h3\"\n",
    "    ),   \n",
    "\n",
    "    #Select Drop Down\n",
    "    dmc.Select(\n",
    "        label=\"Select Year\",\n",
    "        placeholder=\"Select Year\",\n",
    "        id=\"dmc=select-year\",\n",
    "        value=2007,\n",
    "        data=dmc_year_list,\n",
    "        style={\"width\": 200, \"marginBottom\": 10},\n",
    "    ),\n",
    "    dmc.Text(id=\"selected-value\"), \n",
    "\n",
    "    #Data Table and Chart - in a Div as a row\n",
    "    dmc.Grid([\n",
    "        dmc.Col([\n",
    "            #Data Table\n",
    "            #dash_table.DataTable(data=df.to_dict('records'), page_size=12, style_table={'overflowX': 'auto'})\n",
    "            dash_table.DataTable(data=df.to_dict('records'), page_size=12, style_table={'overflowX': 'auto'}, id='table-placeholder')\n",
    "        ], span=6),\n",
    "\n",
    "        # Chart\n",
    "        dmc.Col([    \n",
    "            dcc.Graph(figure={}, id='graph-placeholder')\n",
    "        ], span=6)\n",
    "    ]),\n",
    "    ], fluid=True)\n",
    "\n",
    "# Add controls to build the interaction\n",
    "@callback(    \n",
    "    #Output(component_id='table-placeholder', component_property='data'),\n",
    "    Output(component_id='graph-placeholder', component_property='figure'),\n",
    "    Input(component_id='dmc=select-year', component_property='value')\n",
    ")\n",
    "\n",
    "#def update_table(value):\n",
    "#    #dff = df.loc[df.year==value]\n",
    "#    table = df.to_dict('records')\n",
    "#    return table\n",
    "\n",
    "\n",
    "def update_graph(value):\n",
    "    dff = df.loc[df.year==value]\n",
    "    fig = px.scatter(dff, x='gdpPercap', y='lifeExp', hover_name='country', hover_data=['continent', 'year'])\n",
    "    return fig\n",
    "\n",
    "# Run the app\n",
    "if __name__ == '__main__':\n",
    "    app.run(debug=True)"
   ]
  }
 ],
 "metadata": {
  "kernelspec": {
   "display_name": "FPL2021",
   "language": "python",
   "name": "python3"
  },
  "language_info": {
   "codemirror_mode": {
    "name": "ipython",
    "version": 3
   },
   "file_extension": ".py",
   "mimetype": "text/x-python",
   "name": "python",
   "nbconvert_exporter": "python",
   "pygments_lexer": "ipython3",
   "version": "3.9.18"
  }
 },
 "nbformat": 4,
 "nbformat_minor": 2
}
