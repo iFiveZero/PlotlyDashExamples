{
 "cells": [
  {
   "cell_type": "markdown",
   "metadata": {},
   "source": [
    "# Dash Tutorial\n",
    "\n",
    "Ensure conda env has the prerequisite packages installed\n",
    "\n",
    "Install Dash\n",
    "conda install -c conda-forge dash\n",
    "\n",
    "Install Jupyter Dash\n",
    "conda install -c plotly jupyter-dash\n",
    "\n",
    "Install dash core components\n",
    "conda install -c conda-forge dash-core-components\n",
    "\n",
    "install dash html components\n",
    "conda install -c conda-forge dash-html-components\n",
    "\n",
    "install bootstrap components\n",
    "conda install -c conda-forge dash-bootstrap-components\n",
    "\n",
    "install dash mantime components\n",
    "conda install -c conda-forge dash-mantine-components"
   ]
  },
  {
   "cell_type": "markdown",
   "metadata": {},
   "source": [
    "# More Example Apps\n",
    "They can be found here:\n",
    "https://dash-example-index.herokuapp.com/"
   ]
  },
  {
   "cell_type": "code",
   "execution_count": 1,
   "metadata": {},
   "outputs": [],
   "source": [
    "from dash import Dash, html, dcc, callback, Input, Output, dash_table\n",
    "import plotly.express as px\n",
    "import pandas as pd\n",
    "import dash_bootstrap_components as dbc\n",
    "import dash_mantine_components as dmc"
   ]
  },
  {
   "cell_type": "markdown",
   "metadata": {},
   "source": [
    "# Hello World App\n",
    "app will run on http://127.0.0.1:8050/ "
   ]
  },
  {
   "cell_type": "code",
   "execution_count": 2,
   "metadata": {},
   "outputs": [
    {
     "data": {
      "text/html": [
       "\n",
       "        <iframe\n",
       "            width=\"100%\"\n",
       "            height=\"650\"\n",
       "            src=\"http://127.0.0.1:8050/\"\n",
       "            frameborder=\"0\"\n",
       "            allowfullscreen\n",
       "            \n",
       "        ></iframe>\n",
       "        "
      ],
      "text/plain": [
       "<IPython.lib.display.IFrame at 0x25f1ccf74c0>"
      ]
     },
     "metadata": {},
     "output_type": "display_data"
    }
   ],
   "source": [
    "## Initialize the app\n",
    "app = Dash(__name__)\n",
    "\n",
    "# App layout\n",
    "app.layout = html.Div([\n",
    "    html.Div(children='Hello World!'),\n",
    "    html.Div(children='2nd Div')\n",
    "])\n",
    "\n",
    "# Run the app\n",
    "if __name__ == '__main__':\n",
    "    app.run(debug=True)\n"
   ]
  },
  {
   "cell_type": "markdown",
   "metadata": {},
   "source": [
    "# Example Incorporating Data"
   ]
  },
  {
   "cell_type": "code",
   "execution_count": 3,
   "metadata": {},
   "outputs": [
    {
     "data": {
      "text/html": [
       "\n",
       "        <iframe\n",
       "            width=\"100%\"\n",
       "            height=\"650\"\n",
       "            src=\"http://127.0.0.1:8050/\"\n",
       "            frameborder=\"0\"\n",
       "            allowfullscreen\n",
       "            \n",
       "        ></iframe>\n",
       "        "
      ],
      "text/plain": [
       "<IPython.lib.display.IFrame at 0x25f1cdd1e20>"
      ]
     },
     "metadata": {},
     "output_type": "display_data"
    }
   ],
   "source": [
    "# Incorporate data\n",
    "df = pd.read_csv('https://raw.githubusercontent.com/plotly/datasets/master/gapminder2007.csv')\n",
    "\n",
    "## Initialize the app\n",
    "app = Dash(__name__)\n",
    "\n",
    "# App layout\n",
    "app.layout = html.Div([\n",
    "    html.Div(children='My First App with Data'),\n",
    "    dash_table.DataTable(data=df.to_dict('records'), page_size=10)\n",
    "])\n",
    "\n",
    "# Run the app\n",
    "if __name__ == '__main__':\n",
    "    app.run(debug=True)\n"
   ]
  },
  {
   "cell_type": "markdown",
   "metadata": {},
   "source": [
    "# Visualising Data"
   ]
  },
  {
   "cell_type": "code",
   "execution_count": 4,
   "metadata": {},
   "outputs": [
    {
     "data": {
      "text/html": [
       "\n",
       "        <iframe\n",
       "            width=\"100%\"\n",
       "            height=\"650\"\n",
       "            src=\"http://127.0.0.1:8050/\"\n",
       "            frameborder=\"0\"\n",
       "            allowfullscreen\n",
       "            \n",
       "        ></iframe>\n",
       "        "
      ],
      "text/plain": [
       "<IPython.lib.display.IFrame at 0x25f1d8f5f40>"
      ]
     },
     "metadata": {},
     "output_type": "display_data"
    }
   ],
   "source": [
    "# Incorporate data\n",
    "df = pd.read_csv('https://raw.githubusercontent.com/plotly/datasets/master/gapminder2007.csv')\n",
    "\n",
    "## Initialize the app\n",
    "app = Dash(__name__)\n",
    "\n",
    "# App layout\n",
    "app.layout = html.Div([\n",
    "    html.Div(children='My First App with Data'),\n",
    "    dash_table.DataTable(data=df.to_dict('records'), page_size=10),\n",
    "    #Using the plotly.express library, we build the histogram chart and assign it to the figure property of the dcc.Graph. This displays the histogram in our app.\n",
    "    dcc.Graph(figure=px.histogram(df, x='continent', y='lifeExp', histfunc='avg'))\n",
    "])\n",
    "\n",
    "# Run the app\n",
    "if __name__ == '__main__':\n",
    "    app.run(debug=True)\n"
   ]
  },
  {
   "cell_type": "markdown",
   "metadata": {},
   "source": [
    "# Add USer Controls and Callbacks"
   ]
  },
  {
   "cell_type": "code",
   "execution_count": 5,
   "metadata": {},
   "outputs": [
    {
     "data": {
      "text/html": [
       "\n",
       "        <iframe\n",
       "            width=\"100%\"\n",
       "            height=\"650\"\n",
       "            src=\"http://127.0.0.1:8050/\"\n",
       "            frameborder=\"0\"\n",
       "            allowfullscreen\n",
       "            \n",
       "        ></iframe>\n",
       "        "
      ],
      "text/plain": [
       "<IPython.lib.display.IFrame at 0x25f1e946340>"
      ]
     },
     "metadata": {},
     "output_type": "display_data"
    }
   ],
   "source": [
    "# Incorporate data\n",
    "df = pd.read_csv('https://raw.githubusercontent.com/plotly/datasets/master/gapminder2007.csv')\n",
    "\n",
    "## Initialize the app\n",
    "app = Dash(__name__)\n",
    "\n",
    "# App layout\n",
    "app.layout = html.Div([\n",
    "    html.Div(children='My First App with Data'),    \n",
    "    dcc.RadioItems(options=['pop', 'lifeExp', 'gdpPercap'], value='lifeExp', id='controls-and-radio-item'),\n",
    "    dash_table.DataTable(data=df.to_dict('records'), page_size=10),    \n",
    "    dcc.Graph(figure={}, id='controls-and-graph')\n",
    "])\n",
    "\n",
    "# Add controls to build the interaction\n",
    "@callback(\n",
    "    Output(component_id='controls-and-graph', component_property='figure'),\n",
    "    Input(component_id='controls-and-radio-item', component_property='value')\n",
    ")\n",
    "def update_graph(col_chosen):\n",
    "    fig = px.histogram(df, x='continent', y=col_chosen, histfunc='avg')\n",
    "    return fig\n",
    "\n",
    "# Run the app\n",
    "if __name__ == '__main__':\n",
    "    app.run(debug=True)\n"
   ]
  },
  {
   "cell_type": "markdown",
   "metadata": {},
   "source": [
    "# Includes Styling"
   ]
  },
  {
   "cell_type": "code",
   "execution_count": 6,
   "metadata": {},
   "outputs": [
    {
     "data": {
      "text/html": [
       "\n",
       "        <iframe\n",
       "            width=\"100%\"\n",
       "            height=\"650\"\n",
       "            src=\"http://127.0.0.1:8050/\"\n",
       "            frameborder=\"0\"\n",
       "            allowfullscreen\n",
       "            \n",
       "        ></iframe>\n",
       "        "
      ],
      "text/plain": [
       "<IPython.lib.display.IFrame at 0x25f1ce42070>"
      ]
     },
     "metadata": {},
     "output_type": "display_data"
    }
   ],
   "source": [
    "# Incorporate data\n",
    "df = pd.read_csv('https://raw.githubusercontent.com/plotly/datasets/master/gapminder2007.csv')\n",
    "\n",
    "## Initialize the app - incorporate css\n",
    "external_stylesheets = ['https://codepen.io/chriddyp/pen/bWLwgP.css']\n",
    "app = Dash(__name__, external_stylesheets=external_stylesheets)\n",
    "\n",
    "# App layout\n",
    "app.layout = html.Div([\n",
    "    #Heading Text\n",
    "    html.Div(className='row',children='My First App with Data, Graph, and Controls', style={'textAlign': 'center', 'color': 'blue', 'fontSize': 30}),   \n",
    "    #Radio Buttons\n",
    "    html.Div(className='row', children=[dcc.RadioItems(options=['pop', 'lifeExp', 'gdpPercap'], value='lifeExp', inline=True, id='my-radio-buttons-final')]),\n",
    "    #Data Table and Chart - in a Div as a row\n",
    "    html.Div(className='row', children=[\n",
    "        #Data Table\n",
    "        html.Div(className='six columns',children=[dash_table.DataTable(data=df.to_dict('records'), page_size=11, style_table={'overflowX': 'auto'})]),    \n",
    "        # Chart\n",
    "        html.Div(className='six columns', children=[dcc.Graph(figure={}, id='histo-chart-final')])\n",
    "    ])\n",
    "])\n",
    "\n",
    "# Add controls to build the interaction\n",
    "@callback(\n",
    "    Output(component_id='histo-chart-final', component_property='figure'),\n",
    "    Input(component_id='my-radio-buttons-final', component_property='value')\n",
    ")\n",
    "def update_graph(col_chosen):\n",
    "    fig = px.histogram(df, x='continent', y=col_chosen, histfunc='avg')\n",
    "    return fig\n",
    "\n",
    "# Run the app\n",
    "if __name__ == '__main__':\n",
    "    app.run(debug=True)"
   ]
  },
  {
   "cell_type": "markdown",
   "metadata": {},
   "source": [
    "# Dash Bootstrap Components Example"
   ]
  },
  {
   "cell_type": "code",
   "execution_count": 7,
   "metadata": {},
   "outputs": [
    {
     "data": {
      "text/html": [
       "\n",
       "        <iframe\n",
       "            width=\"100%\"\n",
       "            height=\"650\"\n",
       "            src=\"http://127.0.0.1:8050/\"\n",
       "            frameborder=\"0\"\n",
       "            allowfullscreen\n",
       "            \n",
       "        ></iframe>\n",
       "        "
      ],
      "text/plain": [
       "<IPython.lib.display.IFrame at 0x25f1cb7d2e0>"
      ]
     },
     "metadata": {},
     "output_type": "display_data"
    }
   ],
   "source": [
    "# Incorporate data\n",
    "df = pd.read_csv('https://raw.githubusercontent.com/plotly/datasets/master/gapminder2007.csv')\n",
    "\n",
    "## Initialize the app - incorporate css\n",
    "external_stylesheets = [dbc.themes.CERULEAN]\n",
    "app = Dash(__name__, external_stylesheets=external_stylesheets)\n",
    "\n",
    "# App layout\n",
    "app.layout = dbc.Container([\n",
    "    #Heading Text\n",
    "    dbc.Row([\n",
    "        html.Div('My First App with Data, Graph, and Controls', className=\"text-primary text-center fs-3\")\n",
    "    ]),   \n",
    "\n",
    "    #Radio Buttons\n",
    "    dbc.Row([\n",
    "        dbc.RadioItems(options=[{\"label\":x, \"value\":x} for x in ['pop', 'lifeExp', 'gdpPercap']], \n",
    "        value='lifeExp', \n",
    "        inline=True, \n",
    "        id='radio-buttons-final')\n",
    "    ]),\n",
    "\n",
    "    #Data Table and Chart - in a Div as a row\n",
    "    dbc.Row([\n",
    "        dbc.Col([\n",
    "            #Data Table\n",
    "            dash_table.DataTable(data=df.to_dict('records'), page_size=12, style_table={'overflowX': 'auto'})\n",
    "        ], width=6),\n",
    "\n",
    "        # Chart\n",
    "        dbc.Col([    \n",
    "            dcc.Graph(figure={}, id='my-first-graph-final')\n",
    "        ], width=6)\n",
    "    ]),\n",
    "    ], fluid=True)\n",
    "\n",
    "# Add controls to build the interaction\n",
    "@callback(\n",
    "    Output(component_id='my-first-graph-final', component_property='figure'),\n",
    "    Input(component_id='radio-buttons-final', component_property='value')\n",
    ")\n",
    "def update_graph(col_chosen):\n",
    "    fig = px.histogram(df, x='continent', y=col_chosen, histfunc='avg')\n",
    "    return fig\n",
    "\n",
    "# Run the app\n",
    "if __name__ == '__main__':\n",
    "    app.run(debug=True)"
   ]
  },
  {
   "cell_type": "markdown",
   "metadata": {},
   "source": [
    "# Dash Mantime Components"
   ]
  },
  {
   "cell_type": "code",
   "execution_count": 8,
   "metadata": {},
   "outputs": [
    {
     "data": {
      "text/html": [
       "\n",
       "        <iframe\n",
       "            width=\"100%\"\n",
       "            height=\"650\"\n",
       "            src=\"http://127.0.0.1:8050/\"\n",
       "            frameborder=\"0\"\n",
       "            allowfullscreen\n",
       "            \n",
       "        ></iframe>\n",
       "        "
      ],
      "text/plain": [
       "<IPython.lib.display.IFrame at 0x25f1ea82d60>"
      ]
     },
     "metadata": {},
     "output_type": "display_data"
    }
   ],
   "source": [
    "# Incorporate data\n",
    "df = pd.read_csv('https://raw.githubusercontent.com/plotly/datasets/master/gapminder2007.csv')\n",
    "\n",
    "## Initialize the app - incorporate css\n",
    "external_stylesheets = [dmc.theme.DEFAULT_COLORS]\n",
    "app = Dash(__name__, external_stylesheets=external_stylesheets)\n",
    "\n",
    "# App layout\n",
    "app.layout = dmc.Container([\n",
    "    #Heading Text\n",
    "    dmc.Title(\n",
    "        'My First App with Data, Graph, and Controls', color=\"blue\", size=\"h3\"\n",
    "    ),   \n",
    "\n",
    "    #Radio Buttons\n",
    "    dmc.RadioGroup(\n",
    "        [dmc.Radio(i, value=i) for i in ['pop', 'lifeExp', 'gdpPercap']],\n",
    "        id='my-dmc-radio-item',\n",
    "        value='lifeExp', \n",
    "        size=\"sm\"\n",
    "    ),\n",
    "\n",
    "    #Data Table and Chart - in a Div as a row\n",
    "    dmc.Grid([\n",
    "        dmc.Col([\n",
    "            #Data Table\n",
    "            dash_table.DataTable(data=df.to_dict('records'), page_size=12, style_table={'overflowX': 'auto'})\n",
    "        ], span=6),\n",
    "\n",
    "        # Chart\n",
    "        dmc.Col([    \n",
    "            dcc.Graph(figure={}, id='graph-placeholder')\n",
    "        ], span=6)\n",
    "    ]),\n",
    "    ], fluid=True)\n",
    "\n",
    "# Add controls to build the interaction\n",
    "@callback(\n",
    "    Output(component_id='graph-placeholder', component_property='figure'),\n",
    "    Input(component_id='my-dmc-radio-item', component_property='value')\n",
    ")\n",
    "def update_graph(col_chosen):\n",
    "    fig = px.histogram(df, x='continent', y=col_chosen, histfunc='avg')\n",
    "    return fig\n",
    "\n",
    "# Run the app\n",
    "if __name__ == '__main__':\n",
    "    app.run(debug=True)"
   ]
  },
  {
   "cell_type": "markdown",
   "metadata": {},
   "source": [
    "# Gapminder Example"
   ]
  },
  {
   "cell_type": "code",
   "execution_count": 9,
   "metadata": {},
   "outputs": [
    {
     "data": {
      "text/html": [
       "\n",
       "        <iframe\n",
       "            width=\"100%\"\n",
       "            height=\"650\"\n",
       "            src=\"http://127.0.0.1:8050/\"\n",
       "            frameborder=\"0\"\n",
       "            allowfullscreen\n",
       "            \n",
       "        ></iframe>\n",
       "        "
      ],
      "text/plain": [
       "<IPython.lib.display.IFrame at 0x25f1eb3db20>"
      ]
     },
     "metadata": {},
     "output_type": "display_data"
    }
   ],
   "source": [
    "df = pd.read_csv('https://raw.githubusercontent.com/plotly/datasets/master/gapminder_unfiltered.csv')\n",
    "\n",
    "app = Dash(__name__)\n",
    "\n",
    "#Layout Section of Dash App\n",
    "app.layout = html.Div([\n",
    "    html.H1(children='Title of Dash App', style={'textAlign':'center'}),\n",
    "    dcc.Dropdown(df.country.unique(), 'Canada', id='dropdown-selection'),\n",
    "    dcc.Graph(id='graph-content')\n",
    "])\n",
    "\n",
    "#Callback Section of Dash App\n",
    "@app.callback(\n",
    "    Output('graph-content', 'figure'),\n",
    "    Input('dropdown-selection', 'value')\n",
    ")\n",
    "\n",
    "def update_graph(value):\n",
    "    dff = df[df.country==value]\n",
    "    return px.line(dff, x='year', y='pop')\n",
    "\n",
    "if __name__ == '__main__':\n",
    "    app.run(debug=True)"
   ]
  },
  {
   "cell_type": "markdown",
   "metadata": {},
   "source": [
    "# Another Gap Minder Example"
   ]
  },
  {
   "cell_type": "code",
   "execution_count": 10,
   "metadata": {},
   "outputs": [
    {
     "ename": "TypeError",
     "evalue": "__init__() got multiple values for argument 'options'",
     "output_type": "error",
     "traceback": [
      "\u001b[1;31m---------------------------------------------------------------------------\u001b[0m",
      "\u001b[1;31mTypeError\u001b[0m                                 Traceback (most recent call last)",
      "Cell \u001b[1;32mIn[10], line 8\u001b[0m\n\u001b[0;32m      3\u001b[0m app \u001b[38;5;241m=\u001b[39m Dash(\u001b[38;5;18m__name__\u001b[39m)\n\u001b[0;32m      5\u001b[0m \u001b[38;5;66;03m#Layout Section of Dash App\u001b[39;00m\n\u001b[0;32m      6\u001b[0m app\u001b[38;5;241m.\u001b[39mlayout \u001b[38;5;241m=\u001b[39m html\u001b[38;5;241m.\u001b[39mDiv([\n\u001b[0;32m      7\u001b[0m     html\u001b[38;5;241m.\u001b[39mH1(children\u001b[38;5;241m=\u001b[39m\u001b[38;5;124m'\u001b[39m\u001b[38;5;124mTitle of Dash App\u001b[39m\u001b[38;5;124m'\u001b[39m, style\u001b[38;5;241m=\u001b[39m{\u001b[38;5;124m'\u001b[39m\u001b[38;5;124mtextAlign\u001b[39m\u001b[38;5;124m'\u001b[39m:\u001b[38;5;124m'\u001b[39m\u001b[38;5;124mcenter\u001b[39m\u001b[38;5;124m'\u001b[39m}),\n\u001b[1;32m----> 8\u001b[0m     \u001b[43mdcc\u001b[49m\u001b[38;5;241;43m.\u001b[39;49m\u001b[43mDropdown\u001b[49m\u001b[43m(\u001b[49m\u001b[43mdf\u001b[49m\u001b[38;5;241;43m.\u001b[39;49m\u001b[43mcountry\u001b[49m\u001b[38;5;241;43m.\u001b[39;49m\u001b[43munique\u001b[49m\u001b[43m(\u001b[49m\u001b[43m)\u001b[49m\u001b[43m,\u001b[49m\u001b[43m \u001b[49m\u001b[43mvalue\u001b[49m\u001b[38;5;241;43m=\u001b[39;49m\u001b[38;5;124;43m'\u001b[39;49m\u001b[38;5;124;43m2007\u001b[39;49m\u001b[38;5;124;43m'\u001b[39;49m\u001b[43m,\u001b[49m\u001b[43m \u001b[49m\u001b[38;5;28;43mid\u001b[39;49m\u001b[38;5;241;43m=\u001b[39;49m\u001b[38;5;124;43m'\u001b[39;49m\u001b[38;5;124;43mdropdown-year\u001b[39;49m\u001b[38;5;124;43m'\u001b[39;49m\u001b[43m \u001b[49m\u001b[43m,\u001b[49m\u001b[43m \u001b[49m\u001b[43mclearable\u001b[49m\u001b[38;5;241;43m=\u001b[39;49m\u001b[38;5;28;43;01mFalse\u001b[39;49;00m\u001b[43m,\u001b[49m\n\u001b[0;32m      9\u001b[0m \u001b[43m    \u001b[49m\u001b[43moptions\u001b[49m\u001b[38;5;241;43m=\u001b[39;49m\u001b[43m[\u001b[49m\u001b[43m{\u001b[49m\u001b[38;5;124;43m\"\u001b[39;49m\u001b[38;5;124;43mlabel\u001b[39;49m\u001b[38;5;124;43m\"\u001b[39;49m\u001b[43m:\u001b[49m\u001b[43my\u001b[49m\u001b[43m,\u001b[49m\u001b[43m \u001b[49m\u001b[38;5;124;43m\"\u001b[39;49m\u001b[38;5;124;43mvalue\u001b[39;49m\u001b[38;5;124;43m\"\u001b[39;49m\u001b[43m:\u001b[49m\u001b[43my\u001b[49m\u001b[43m}\u001b[49m\u001b[43m \u001b[49m\u001b[38;5;28;43;01mfor\u001b[39;49;00m\u001b[43m \u001b[49m\u001b[43my\u001b[49m\u001b[43m \u001b[49m\u001b[38;5;129;43;01min\u001b[39;49;00m\u001b[43m \u001b[49m\u001b[43mdf\u001b[49m\u001b[43m[\u001b[49m\u001b[38;5;124;43m'\u001b[39;49m\u001b[38;5;124;43myear\u001b[39;49m\u001b[38;5;124;43m'\u001b[39;49m\u001b[43m]\u001b[49m\u001b[38;5;241;43m.\u001b[39;49m\u001b[43munique\u001b[49m\u001b[43m(\u001b[49m\u001b[43m)\u001b[49m\u001b[43m]\u001b[49m\u001b[43m)\u001b[49m,\n\u001b[0;32m     10\u001b[0m     dcc\u001b[38;5;241m.\u001b[39mGraph(\u001b[38;5;28mid\u001b[39m\u001b[38;5;241m=\u001b[39m\u001b[38;5;124m'\u001b[39m\u001b[38;5;124mgraph-content\u001b[39m\u001b[38;5;124m'\u001b[39m, figure\u001b[38;5;241m=\u001b[39m{})\n\u001b[0;32m     11\u001b[0m ])\n\u001b[0;32m     13\u001b[0m \u001b[38;5;66;03m#Callback Section of Dash App\u001b[39;00m\n\u001b[0;32m     14\u001b[0m \u001b[38;5;129m@app\u001b[39m\u001b[38;5;241m.\u001b[39mcallback(\n\u001b[0;32m     15\u001b[0m     Output(\u001b[38;5;124m'\u001b[39m\u001b[38;5;124mgraph-content\u001b[39m\u001b[38;5;124m'\u001b[39m, \u001b[38;5;124m'\u001b[39m\u001b[38;5;124mfigure\u001b[39m\u001b[38;5;124m'\u001b[39m),\n\u001b[0;32m     16\u001b[0m     Input(\u001b[38;5;124m'\u001b[39m\u001b[38;5;124mdropdown-year\u001b[39m\u001b[38;5;124m'\u001b[39m, \u001b[38;5;124m'\u001b[39m\u001b[38;5;124mvalue\u001b[39m\u001b[38;5;124m'\u001b[39m)\n\u001b[0;32m     17\u001b[0m )\n\u001b[0;32m     18\u001b[0m \n\u001b[0;32m     19\u001b[0m \u001b[38;5;28;01mdef\u001b[39;00m \u001b[38;5;21mupdate_graph\u001b[39m(value):\n",
      "File \u001b[1;32md:\\DevProjects\\Anaconda\\envs\\FPL2021\\lib\\site-packages\\dash\\development\\base_component.py:420\u001b[0m, in \u001b[0;36m_explicitize_args.<locals>.wrapper\u001b[1;34m(*args, **kwargs)\u001b[0m\n\u001b[0;32m    418\u001b[0m \u001b[38;5;28;01mif\u001b[39;00m \u001b[38;5;124m\"\u001b[39m\u001b[38;5;124mself\u001b[39m\u001b[38;5;124m\"\u001b[39m \u001b[38;5;129;01min\u001b[39;00m kwargs[\u001b[38;5;124m\"\u001b[39m\u001b[38;5;124m_explicit_args\u001b[39m\u001b[38;5;124m\"\u001b[39m]:\n\u001b[0;32m    419\u001b[0m     kwargs[\u001b[38;5;124m\"\u001b[39m\u001b[38;5;124m_explicit_args\u001b[39m\u001b[38;5;124m\"\u001b[39m]\u001b[38;5;241m.\u001b[39mremove(\u001b[38;5;124m\"\u001b[39m\u001b[38;5;124mself\u001b[39m\u001b[38;5;124m\"\u001b[39m)\n\u001b[1;32m--> 420\u001b[0m \u001b[38;5;28;01mreturn\u001b[39;00m func(\u001b[38;5;241m*\u001b[39margs, \u001b[38;5;241m*\u001b[39m\u001b[38;5;241m*\u001b[39mkwargs)\n",
      "\u001b[1;31mTypeError\u001b[0m: __init__() got multiple values for argument 'options'"
     ]
    }
   ],
   "source": [
    "df = px.data.gapminder()\n",
    "\n",
    "app = Dash(__name__)\n",
    "\n",
    "#Layout Section of Dash App\n",
    "app.layout = html.Div([\n",
    "    html.H1(children='Title of Dash App', style={'textAlign':'center'}),\n",
    "    dcc.Dropdown(df.country.unique(), value='2007', id='dropdown-year' , clearable=False,\n",
    "    options=[{\"label\":y, \"value\":y} for y in df['year'].unique()]),\n",
    "    dcc.Graph(id='graph-content', figure={})\n",
    "])\n",
    "\n",
    "#Callback Section of Dash App\n",
    "@app.callback(\n",
    "    Output('graph-content', 'figure'),\n",
    "    Input('dropdown-year', 'value')\n",
    ")\n",
    "\n",
    "def update_graph(value):\n",
    "    dff = df[df.year==value]\n",
    "    return px.scatter(dff, x='gdpPercap', y='lifeExp')\n",
    "\n",
    "if __name__ == '__main__':\n",
    "    app.run(debug=True)"
   ]
  }
 ],
 "metadata": {
  "kernelspec": {
   "display_name": "FPL2021",
   "language": "python",
   "name": "python3"
  },
  "language_info": {
   "codemirror_mode": {
    "name": "ipython",
    "version": 3
   },
   "file_extension": ".py",
   "mimetype": "text/x-python",
   "name": "python",
   "nbconvert_exporter": "python",
   "pygments_lexer": "ipython3",
   "version": "3.9.18"
  }
 },
 "nbformat": 4,
 "nbformat_minor": 2
}
